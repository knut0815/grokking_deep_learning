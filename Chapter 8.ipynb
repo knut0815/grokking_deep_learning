{
 "cells": [
  {
   "cell_type": "code",
   "execution_count": 1,
   "metadata": {},
   "outputs": [
    {
     "name": "stderr",
     "output_type": "stream",
     "text": [
      "/usr/local/lib/python3.6/dist-packages/h5py/__init__.py:36: FutureWarning: Conversion of the second argument of issubdtype from `float` to `np.floating` is deprecated. In future, it will be treated as `np.float64 == np.dtype(float).type`.\n",
      "  from ._conv import register_converters as _register_converters\n",
      "Using TensorFlow backend.\n"
     ]
    }
   ],
   "source": [
    "import sys, numpy as np\n",
    "from keras.datasets import mnist\n",
    "from matplotlib import pyplot as plt"
   ]
  },
  {
   "cell_type": "markdown",
   "metadata": {},
   "source": [
    "## Load data"
   ]
  },
  {
   "cell_type": "code",
   "execution_count": 2,
   "metadata": {},
   "outputs": [
    {
     "name": "stdout",
     "output_type": "stream",
     "text": [
      "Downloading data from https://s3.amazonaws.com/img-datasets/mnist.npz\n",
      "11493376/11490434 [==============================] - 10s 1us/step\n"
     ]
    }
   ],
   "source": [
    "(x_train, y_train), (x_test, y_test) = mnist.load_data()"
   ]
  },
  {
   "cell_type": "markdown",
   "metadata": {},
   "source": [
    "## Prepare training and test data"
   ]
  },
  {
   "cell_type": "code",
   "execution_count": 3,
   "metadata": {},
   "outputs": [],
   "source": [
    "x_train, y_train = (x_train[0:1000].reshape(1000, 28 * 28) / 255.0, y_train[0:1000])\n",
    "\n",
    "def convert_to_one_hot(arr, c):\n",
    "    one_hot_labels = np.zeros((len(arr), c))\n",
    "    \n",
    "    for i, l in enumerate(arr):\n",
    "        one_hot_labels[i][l] = 1.0\n",
    "        \n",
    "    return one_hot_labels\n",
    "\n",
    "y_train = convert_to_one_hot(y_train, 10)\n",
    "\n",
    "x_test = x_test.reshape(len(x_test), 28 * 28) / 255.0\n",
    "y_test = convert_to_one_hot(y_test, 10)"
   ]
  },
  {
   "cell_type": "code",
   "execution_count": 4,
   "metadata": {},
   "outputs": [],
   "source": [
    "def show_image(data, id):\n",
    "    image = (data[id].reshape((28, 28)) * 255.0).astype(np.uint8)\n",
    "    plt.imshow(image, interpolation='nearest')"
   ]
  },
  {
   "cell_type": "code",
   "execution_count": 5,
   "metadata": {},
   "outputs": [
    {
     "name": "stdout",
     "output_type": "stream",
     "text": [
      "[0. 0. 0. 0. 0. 1. 0. 0. 0. 0.]\n"
     ]
    },
    {
     "data": {
      "image/png": "[encoded data removed]",
      "text/plain": [
       "<Figure size 432x288 with 1 Axes>"
      ]
     },
     "metadata": {},
     "output_type": "display_data"
    }
   ],
   "source": [
    "show_image(x_train, 0)\n",
    "print(y_train[0])"
   ]
  },
  {
   "cell_type": "code",
   "execution_count": 6,
   "metadata": {},
   "outputs": [
    {
     "name": "stdout",
     "output_type": "stream",
     "text": [
      "[0. 0. 0. 0. 0. 0. 0. 1. 0. 0.]\n"
     ]
    },
    {
     "data": {
      "image/png": "[encoded data removed]",
      "text/plain": [
       "<Figure size 432x288 with 1 Axes>"
      ]
     },
     "metadata": {},
     "output_type": "display_data"
    }
   ],
   "source": [
    "show_image(x_test, 0)\n",
    "print(y_test[0])"
   ]
  },
  {
   "cell_type": "markdown",
   "metadata": {},
   "source": [
    "## Training"
   ]
  },
  {
   "cell_type": "code",
   "execution_count": 17,
   "metadata": {},
   "outputs": [
    {
     "name": "stdout",
     "output_type": "stream",
     "text": [
      " test error: 1.042 test accuracy: 0.0571\n",
      " epoch: 5 error: 1.016 percent correct: 0.053"
     ]
    },
    {
     "ename": "KeyboardInterrupt",
     "evalue": "",
     "output_type": "error",
     "traceback": [
      "\u001b[0;31m---------------------------------------------------------------------------\u001b[0m",
      "\u001b[0;31mKeyboardInterrupt\u001b[0m                         Traceback (most recent call last)",
      "\u001b[0;32m<ipython-input-17-bec7aece481d>\u001b[0m in \u001b[0;36m<module>\u001b[0;34m()\u001b[0m\n\u001b[1;32m     25\u001b[0m     \u001b[0;32mfor\u001b[0m \u001b[0mi\u001b[0m \u001b[0;32min\u001b[0m \u001b[0mrange\u001b[0m\u001b[0;34m(\u001b[0m\u001b[0mlen\u001b[0m\u001b[0;34m(\u001b[0m\u001b[0mx_train\u001b[0m\u001b[0;34m)\u001b[0m\u001b[0;34m)\u001b[0m\u001b[0;34m:\u001b[0m\u001b[0;34m\u001b[0m\u001b[0m\n\u001b[1;32m     26\u001b[0m         \u001b[0;31m# Forward pass\u001b[0m\u001b[0;34m\u001b[0m\u001b[0;34m\u001b[0m\u001b[0m\n\u001b[0;32m---> 27\u001b[0;31m         \u001b[0mlayer_2\u001b[0m \u001b[0;34m=\u001b[0m \u001b[0mforward\u001b[0m\u001b[0;34m(\u001b[0m\u001b[0mx_train\u001b[0m\u001b[0;34m[\u001b[0m\u001b[0mi\u001b[0m\u001b[0;34m:\u001b[0m\u001b[0mi\u001b[0m\u001b[0;34m+\u001b[0m\u001b[0;36m1\u001b[0m\u001b[0;34m]\u001b[0m\u001b[0;34m)\u001b[0m\u001b[0;34m\u001b[0m\u001b[0m\n\u001b[0m\u001b[1;32m     28\u001b[0m \u001b[0;34m\u001b[0m\u001b[0m\n\u001b[1;32m     29\u001b[0m         \u001b[0;31m# Calculate loss\u001b[0m\u001b[0;34m\u001b[0m\u001b[0;34m\u001b[0m\u001b[0m\n",
      "\u001b[0;32m<ipython-input-17-bec7aece481d>\u001b[0m in \u001b[0;36mforward\u001b[0;34m(x)\u001b[0m\n\u001b[1;32m     15\u001b[0m \u001b[0;32mdef\u001b[0m \u001b[0mforward\u001b[0m\u001b[0;34m(\u001b[0m\u001b[0mx\u001b[0m\u001b[0;34m)\u001b[0m\u001b[0;34m:\u001b[0m\u001b[0;34m\u001b[0m\u001b[0m\n\u001b[1;32m     16\u001b[0m     \u001b[0mlayer_0\u001b[0m \u001b[0;34m=\u001b[0m \u001b[0mx\u001b[0m\u001b[0;34m\u001b[0m\u001b[0m\n\u001b[0;32m---> 17\u001b[0;31m     \u001b[0mlayer_1\u001b[0m \u001b[0;34m=\u001b[0m \u001b[0mrelu\u001b[0m\u001b[0;34m(\u001b[0m\u001b[0mnp\u001b[0m\u001b[0;34m.\u001b[0m\u001b[0mdot\u001b[0m\u001b[0;34m(\u001b[0m\u001b[0mlayer_0\u001b[0m\u001b[0;34m,\u001b[0m \u001b[0mweights_0_1\u001b[0m\u001b[0;34m)\u001b[0m\u001b[0;34m)\u001b[0m\u001b[0;34m\u001b[0m\u001b[0m\n\u001b[0m\u001b[1;32m     18\u001b[0m     \u001b[0mlayer_2\u001b[0m \u001b[0;34m=\u001b[0m \u001b[0mnp\u001b[0m\u001b[0;34m.\u001b[0m\u001b[0mdot\u001b[0m\u001b[0;34m(\u001b[0m\u001b[0mlayer_1\u001b[0m\u001b[0;34m,\u001b[0m \u001b[0mweights_1_2\u001b[0m\u001b[0;34m)\u001b[0m\u001b[0;34m\u001b[0m\u001b[0m\n\u001b[1;32m     19\u001b[0m     \u001b[0;32mreturn\u001b[0m \u001b[0mlayer_2\u001b[0m\u001b[0;34m\u001b[0m\u001b[0m\n",
      "\u001b[0;31mKeyboardInterrupt\u001b[0m: "
     ]
    }
   ],
   "source": [
    "np.random.seed(1)\n",
    "\n",
    "relu = lambda x: (x >= 0.0) * x\n",
    "relu_backwards = lambda x: x >= 0.0\n",
    "\n",
    "lr = 0.005\n",
    "epochs = 350\n",
    "hidden_size = 40\n",
    "pixels_per_image = 784\n",
    "num_labels = 10\n",
    "\n",
    "weights_0_1 = 0.2 * np.random.random((pixels_per_image, hidden_size)) - 0.1\n",
    "weights_1_2 = 0.2 * np.random.random((hidden_size, num_labels)) - 0.1\n",
    "\n",
    "def forward(x):\n",
    "    layer_0 = x\n",
    "    layer_1 = relu(np.dot(layer_0, weights_0_1))\n",
    "    layer_2 = np.dot(layer_1, weights_1_2)\n",
    "    return layer_2\n",
    "\n",
    "for j in range(epochs):\n",
    "    \n",
    "    error, correct_cnt = (0.0, 0)\n",
    "    \n",
    "    for i in range(len(x_train)):\n",
    "        # Forward pass\n",
    "        layer_2 = forward(x_train[i:i+1])\n",
    "        \n",
    "        # Calculate loss\n",
    "        error += np.sum((y_train[i:i+1] - layer_2) ** 2.0)\n",
    "        correct_cnt += int(np.argmax(layer_2) == np.argmax(y_train[i:i+1]))\n",
    "        \n",
    "        # Backward pass\n",
    "        layer_2_delta = (y_train[i:i+1] - layer_2)\n",
    "        layer_1_delta = layer_2_delta.dot(weights_1_2.T) * relu_backwards(layer_1)\n",
    "        \n",
    "        # Parameter update\n",
    "        weights_1_2 += lr * layer_1.T.dot(layer_2_delta)\n",
    "        weights_0_1 += lr * layer_0.T.dot(layer_1_delta)\n",
    "    \n",
    "    # Test accuracy\n",
    "    if(j % 10 == 0 or j == epochs - 1):\n",
    "\n",
    "        error, correct_cnt = (0.0, 0)\n",
    "\n",
    "        for i in range(len(x_test)):\n",
    "            layer_2 = forward(x_test[i:i+1])\n",
    "\n",
    "            error += np.sum((y_test[i:i+1] - layer_2) ** 2.0)\n",
    "            correct_cnt += int(np.argmax(layer_2) == np.argmax(y_test[i:i+1]))\n",
    "\n",
    "        sys.stdout.write(\" test error: \" + str(error / float(len(x_test)))[0:5] + \\\n",
    "                         \" test accuracy: \" + str(correct_cnt / float(len(x_test))))\n",
    "        print()\n",
    "    \n",
    "    sys.stdout.write(\"\\r\" + \\\n",
    "        \" epoch: \" + str(j) + \\\n",
    "        \" error: \" + str(error / float(len(x_train)))[0:5] + \\\n",
    "        \" percent correct: \" + str(correct_cnt / float(len(x_train))))"
   ]
  },
  {
   "cell_type": "markdown",
   "metadata": {},
   "source": [
    "## Dropout"
   ]
  },
  {
   "cell_type": "code",
   "execution_count": 22,
   "metadata": {},
   "outputs": [
    {
     "name": "stdout",
     "output_type": "stream",
     "text": [
      "\n",
      "epoch: 0 test error: 0.641 test accuracy: 0.6333 training error: 0.891 training accuracy: 0.413\n",
      "epoch: 10 test error: 0.458 test accuracy: 0.787 training error: 0.472 training accuracy: 0.764\n",
      "epoch: 20 test error: 0.415 test accuracy: 0.8133 training error: 0.430 training accuracy: 0.809\n",
      "epoch: 30 test error: 0.421 test accuracy: 0.8114 training error: 0.415 training accuracy: 0.811\n",
      "epoch: 40 test error: 0.419 test accuracy: 0.8112 training error: 0.413 training accuracy: 0.827\n",
      "epoch: 50 test error: 0.409 test accuracy: 0.8133 training error: 0.392 training accuracy: 0.836\n",
      "epoch: 60 test error: 0.412 test accuracy: 0.8236 training error: 0.402 training accuracy: 0.836\n",
      "epoch: 70 test error: 0.412 test accuracy: 0.8033 training error: 0.383 training accuracy: 0.857\n",
      "epoch: 80 test error: 0.410 test accuracy: 0.8054 training error: 0.386 training accuracy: 0.854\n",
      "epoch: 90 test error: 0.411 test accuracy: 0.8144 training error: 0.376 training accuracy: 0.868\n",
      "epoch: 100 test error: 0.411 test accuracy: 0.7903 training error: 0.369 training accuracy: 0.864\n",
      "epoch: 110 test error: 0.411 test accuracy: 0.8003 training error: 0.371 training accuracy: 0.868\n",
      "epoch: 120 test error: 0.402 test accuracy: 0.8046 training error: 0.353 training accuracy: 0.857\n",
      "epoch: 130 test error: 0.408 test accuracy: 0.8091 training error: 0.352 training accuracy: 0.867\n",
      "epoch: 140 test error: 0.405 test accuracy: 0.8083 training error: 0.355 training accuracy: 0.885\n",
      "epoch: 150 test error: 0.404 test accuracy: 0.8107 training error: 0.342 training accuracy: 0.883\n",
      "epoch: 160 test error: 0.399 test accuracy: 0.8146 training error: 0.361 training accuracy: 0.876\n",
      "epoch: 170 test error: 0.404 test accuracy: 0.8074 training error: 0.344 training accuracy: 0.889\n",
      "epoch: 180 test error: 0.399 test accuracy: 0.807 training error: 0.333 training accuracy: 0.892\n",
      "epoch: 190 test error: 0.407 test accuracy: 0.8066 training error: 0.335 training accuracy: 0.898\n",
      "epoch: 200 test error: 0.405 test accuracy: 0.8036 training error: 0.347 training accuracy: 0.893\n",
      "epoch: 210 test error: 0.405 test accuracy: 0.8034 training error: 0.336 training accuracy: 0.894\n",
      "epoch: 220 test error: 0.402 test accuracy: 0.8067 training error: 0.325 training accuracy: 0.896\n",
      "epoch: 230 test error: 0.404 test accuracy: 0.8091 training error: 0.321 training accuracy: 0.894\n",
      "epoch: 240 test error: 0.415 test accuracy: 0.8091 training error: 0.332 training accuracy: 0.898\n",
      "epoch: 250 test error: 0.395 test accuracy: 0.8182 training error: 0.320 training accuracy: 0.899\n",
      "epoch: 260 test error: 0.390 test accuracy: 0.8204 training error: 0.321 training accuracy: 0.899\n",
      "epoch: 270 test error: 0.382 test accuracy: 0.8194 training error: 0.312 training accuracy: 0.906\n",
      "epoch: 280 test error: 0.396 test accuracy: 0.8208 training error: 0.317 training accuracy: 0.9\n",
      "epoch: 290 test error: 0.399 test accuracy: 0.8181 training error: 0.301 training accuracy: 0.908"
     ]
    }
   ],
   "source": [
    "np.random.seed(1)\n",
    "\n",
    "relu = lambda x: (x >= 0.0) * x\n",
    "relu_backwards = lambda x: x >= 0.0\n",
    "\n",
    "lr = 0.005\n",
    "epochs = 300\n",
    "hidden_size = 100\n",
    "pixels_per_image = 784\n",
    "num_labels = 10\n",
    "\n",
    "weights_0_1 = 0.2 * np.random.random((pixels_per_image, hidden_size)) - 0.1\n",
    "weights_1_2 = 0.2 * np.random.random((hidden_size, num_labels)) - 0.1\n",
    "\n",
    "training_errors = []\n",
    "test_errors = []\n",
    "\n",
    "for j in range(epochs):\n",
    "    \n",
    "    error, correct_cnt = (0.0, 0)\n",
    "    \n",
    "    for i in range(len(x_train)):\n",
    "        # Forward pass\n",
    "        layer_0 = x_train[i:i+1]\n",
    "        layer_1 = relu(np.dot(layer_0, weights_0_1))\n",
    "        dropout_mask = np.random.randint(2, size=layer_1.shape)\n",
    "        layer_1 *= dropout_mask\n",
    "        layer_1 *= 2.0\n",
    "        layer_2 = np.dot(layer_1, weights_1_2)\n",
    "        \n",
    "        # Calculate loss\n",
    "        error += np.sum((y_train[i:i+1] - layer_2) ** 2.0)\n",
    "        correct_cnt += int(np.argmax(layer_2) == np.argmax(y_train[i:i+1]))\n",
    "        \n",
    "        # Backward pass\n",
    "        layer_2_delta = (y_train[i:i+1] - layer_2)\n",
    "        layer_1_delta = layer_2_delta.dot(weights_1_2.T) * relu_backwards(layer_1)\n",
    "        layer_1_delta *= dropout_mask\n",
    "        \n",
    "        # Parameter update\n",
    "        weights_1_2 += lr * layer_1.T.dot(layer_2_delta)\n",
    "        weights_0_1 += lr * layer_0.T.dot(layer_1_delta)\n",
    "    \n",
    "    if(j % 10 == 0):\n",
    "        \n",
    "        test_error = 0.0\n",
    "        test_correct_cnt = 0\n",
    "\n",
    "        for i in range(len(x_test)):\n",
    "            # No dropout at test time\n",
    "            layer_0 = x_test[i:i+1]\n",
    "            layer_1 = relu(np.dot(layer_0, weights_0_1))\n",
    "            layer_2 = np.dot(layer_1, weights_1_2)\n",
    "            \n",
    "            test_error += np.sum((y_test[i:i+1] - layer_2) ** 2)\n",
    "            test_correct_cnt += int(np.argmax(layer_2) == np.argmax(y_test[i:i+1]))\n",
    "        \n",
    "        sys.stdout.write(\"\\n\" + \\\n",
    "            \"epoch: \" + str(j) + \\\n",
    "            \" test error: \" + str(test_error / float(len(x_test)))[0:5] +\\\n",
    "            \" test accuracy: \" + str(test_correct_cnt / float(len(x_test)))+\\\n",
    "            \" training error: \" + str(error / float(len(x_train)))[0:5] +\\\n",
    "            \" training accuracy: \" + str(correct_cnt / float(len(x_train))))\n",
    "        \n",
    "        training_errors.append(error / float(len(x_train)))\n",
    "        test_errors.append(test_error / float(len(x_test)))"
   ]
  },
  {
   "cell_type": "code",
   "execution_count": 30,
   "metadata": {},
   "outputs": [
    {
     "data": {
      "text/plain": [
       "[<matplotlib.lines.Line2D at 0x7f433e06f358>,\n",
       " <matplotlib.lines.Line2D at 0x7f433e06f588>]"
      ]
     },
     "execution_count": 30,
     "metadata": {},
     "output_type": "execute_result"
    },
    {
     "data": {
      "image/png": "[encoded data removed]",
      "text/plain": [
       "<Figure size 432x288 with 1 Axes>"
      ]
     },
     "metadata": {},
     "output_type": "display_data"
    }
   ],
   "source": [
    "%matplotlib inline\n",
    "plt.plot(np.arange(len(training_errors)), training_errors, np.arange(len(test_errors)), test_errors)"
   ]
  },
  {
   "cell_type": "markdown",
   "metadata": {},
   "source": [
    "## Mini-Batch Gradient Descent"
   ]
  },
  {
   "cell_type": "code",
   "execution_count": 34,
   "metadata": {},
   "outputs": [
    {
     "name": "stdout",
     "output_type": "stream",
     "text": [
      "\n",
      "epoch: 0 test error: 0.815 test accuracy: 0.3832 training error: 1.284 training accuracy: 0.165\n",
      "epoch: 10 test error: 0.568 test accuracy: 0.7173 training error: 0.591 training accuracy: 0.672\n",
      "epoch: 20 test error: 0.510 test accuracy: 0.7571 training error: 0.532 training accuracy: 0.729\n",
      "epoch: 30 test error: 0.485 test accuracy: 0.7793 training error: 0.498 training accuracy: 0.754\n",
      "epoch: 40 test error: 0.468 test accuracy: 0.7877 training error: 0.489 training accuracy: 0.749\n",
      "epoch: 50 test error: 0.458 test accuracy: 0.793 training error: 0.468 training accuracy: 0.775\n",
      "epoch: 60 test error: 0.452 test accuracy: 0.7995 training error: 0.452 training accuracy: 0.799\n",
      "epoch: 70 test error: 0.446 test accuracy: 0.803 training error: 0.453 training accuracy: 0.792\n",
      "epoch: 80 test error: 0.451 test accuracy: 0.7968 training error: 0.457 training accuracy: 0.786\n",
      "epoch: 90 test error: 0.447 test accuracy: 0.795 training error: 0.454 training accuracy: 0.799\n",
      "epoch: 100 test error: 0.448 test accuracy: 0.793 training error: 0.447 training accuracy: 0.796\n",
      "epoch: 110 test error: 0.441 test accuracy: 0.7943 training error: 0.426 training accuracy: 0.816\n",
      "epoch: 120 test error: 0.442 test accuracy: 0.7966 training error: 0.431 training accuracy: 0.813\n",
      "epoch: 130 test error: 0.441 test accuracy: 0.7906 training error: 0.434 training accuracy: 0.816\n",
      "epoch: 140 test error: 0.447 test accuracy: 0.7874 training error: 0.437 training accuracy: 0.822\n",
      "epoch: 150 test error: 0.443 test accuracy: 0.7899 training error: 0.414 training accuracy: 0.823\n",
      "epoch: 160 test error: 0.438 test accuracy: 0.797 training error: 0.427 training accuracy: 0.811\n",
      "epoch: 170 test error: 0.440 test accuracy: 0.7884 training error: 0.418 training accuracy: 0.828\n",
      "epoch: 180 test error: 0.436 test accuracy: 0.7935 training error: 0.407 training accuracy: 0.834\n",
      "epoch: 190 test error: 0.434 test accuracy: 0.7935 training error: 0.410 training accuracy: 0.831\n",
      "epoch: 200 test error: 0.435 test accuracy: 0.7972 training error: 0.416 training accuracy: 0.829\n",
      "epoch: 210 test error: 0.434 test accuracy: 0.7923 training error: 0.409 training accuracy: 0.83\n",
      "epoch: 220 test error: 0.433 test accuracy: 0.8032 training error: 0.396 training accuracy: 0.832\n",
      "epoch: 230 test error: 0.431 test accuracy: 0.8036 training error: 0.393 training accuracy: 0.853\n",
      "epoch: 240 test error: 0.430 test accuracy: 0.8047 training error: 0.397 training accuracy: 0.844\n",
      "epoch: 250 test error: 0.429 test accuracy: 0.8028 training error: 0.386 training accuracy: 0.843\n",
      "epoch: 260 test error: 0.431 test accuracy: 0.8038 training error: 0.394 training accuracy: 0.843\n",
      "epoch: 270 test error: 0.428 test accuracy: 0.8014 training error: 0.384 training accuracy: 0.845\n",
      "epoch: 280 test error: 0.430 test accuracy: 0.8067 training error: 0.401 training accuracy: 0.846\n",
      "epoch: 290 test error: 0.428 test accuracy: 0.7975 training error: 0.383 training accuracy: 0.851"
     ]
    }
   ],
   "source": [
    "np.random.seed(1)\n",
    "\n",
    "relu = lambda x: (x >= 0.0) * x\n",
    "relu_backwards = lambda x: x >= 0.0\n",
    "\n",
    "lr = 0.001\n",
    "epochs = 300\n",
    "batch_size = 100\n",
    "hidden_size = 100\n",
    "pixels_per_image = 784\n",
    "num_labels = 10\n",
    "\n",
    "weights_0_1 = 0.2 * np.random.random((pixels_per_image, hidden_size)) - 0.1\n",
    "weights_1_2 = 0.2 * np.random.random((hidden_size, num_labels)) - 0.1\n",
    "\n",
    "training_errors = []\n",
    "test_errors = []\n",
    "\n",
    "for j in range(epochs):\n",
    "    \n",
    "    error, correct_cnt = (0.0, 0)\n",
    "    \n",
    "    for i in range(int(len(x_train) / batch_size)):\n",
    "        batch_start, batch_end = ((i * batch_size),((i + 1) * batch_size))\n",
    "        \n",
    "        # Forward pass\n",
    "        layer_0 = x_train[batch_start:batch_end]\n",
    "        layer_1 = relu(np.dot(layer_0, weights_0_1))\n",
    "        dropout_mask = np.random.randint(2, size=layer_1.shape)\n",
    "        layer_1 *= dropout_mask\n",
    "        layer_1 *= 2.0\n",
    "        layer_2 = np.dot(layer_1, weights_1_2)\n",
    "        \n",
    "        error += np.sum((y_train[batch_start:batch_end] - layer_2) ** 2.0)\n",
    "        \n",
    "        for k in range(batch_size):\n",
    "            # Calculate loss\n",
    "            correct_cnt += int(np.argmax(layer_2[k:k+1]) == np.argmax(y_train[batch_start + k:batch_start + k + 1]))\n",
    "            \n",
    "            # Backward pass\n",
    "            layer_2_delta = (y_train[batch_start:batch_end]-layer_2) / batch_size\n",
    "            layer_1_delta = layer_2_delta.dot(weights_1_2.T)* relu_backwards(layer_1)\n",
    "            layer_1_delta *= dropout_mask\n",
    "            \n",
    "            # Parameter update\n",
    "            weights_1_2 += lr * layer_1.T.dot(layer_2_delta)\n",
    "            weights_0_1 += lr * layer_0.T.dot(layer_1_delta)\n",
    "    \n",
    "    if(j % 10 == 0):\n",
    "        \n",
    "        test_error = 0.0\n",
    "        test_correct_cnt = 0\n",
    "\n",
    "        for i in range(len(x_test)):\n",
    "            # No dropout at test time\n",
    "            layer_0 = x_test[i:i+1]\n",
    "            layer_1 = relu(np.dot(layer_0, weights_0_1))\n",
    "            layer_2 = np.dot(layer_1, weights_1_2)\n",
    "            \n",
    "            test_error += np.sum((y_test[i:i+1] - layer_2) ** 2)\n",
    "            test_correct_cnt += int(np.argmax(layer_2) == np.argmax(y_test[i:i+1]))\n",
    "        \n",
    "        sys.stdout.write(\"\\n\" + \\\n",
    "            \"epoch: \" + str(j) + \\\n",
    "            \" test error: \" + str(test_error / float(len(x_test)))[0:5] +\\\n",
    "            \" test accuracy: \" + str(test_correct_cnt / float(len(x_test)))+\\\n",
    "            \" training error: \" + str(error / float(len(x_train)))[0:5] +\\\n",
    "            \" training accuracy: \" + str(correct_cnt / float(len(x_train))))\n",
    "        \n",
    "        training_errors.append(error / float(len(x_train)))\n",
    "        test_errors.append(test_error / float(len(x_test)))"
   ]
  },
  {
   "cell_type": "code",
   "execution_count": null,
   "metadata": {},
   "outputs": [],
   "source": []
  }
 ],
 "metadata": {
  "kernelspec": {
   "display_name": "Python 3",
   "language": "python",
   "name": "python3"
  },
  "language_info": {
   "codemirror_mode": {
    "name": "ipython",
    "version": 3
   },
   "file_extension": ".py",
   "mimetype": "text/x-python",
   "name": "python",
   "nbconvert_exporter": "python",
   "pygments_lexer": "ipython3",
   "version": "3.6.3"
  }
 },
 "nbformat": 4,
 "nbformat_minor": 2
}

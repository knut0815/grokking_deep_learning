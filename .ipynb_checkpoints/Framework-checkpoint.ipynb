{
 "cells": [
  {
   "cell_type": "code",
   "execution_count": 38,
   "metadata": {},
   "outputs": [],
   "source": [
    "# Import libraries and set random seed\n",
    "import numpy as np\n",
    "from matplotlib import pyplot as plt\n",
    "%matplotlib inline\n",
    "np.random.seed(1)"
   ]
  },
  {
   "cell_type": "code",
   "execution_count": 39,
   "metadata": {},
   "outputs": [],
   "source": [
    "# Build dummy dataset\n",
    "xs = np.array([\n",
    "    [1.0, 0.0, 1.0],\n",
    "    [0.0, 1.0, 1.0],\n",
    "    [0.0, 0.0, 1.0],\n",
    "    [1.0, 1.0, 1.0]\n",
    "])\n",
    "\n",
    "ys = np.array([\n",
    "    [1.0, 1.0, 0.0, 0.0]\n",
    "]).T"
   ]
  },
  {
   "cell_type": "code",
   "execution_count": 57,
   "metadata": {},
   "outputs": [
    {
     "name": "stdout",
     "output_type": "stream",
     "text": [
      "epoch: 0 - total loss: 1.4142058374213209\n",
      "epoch: 10 - total loss: 0.5969764839869187\n",
      "epoch: 20 - total loss: 0.32618123814841266\n",
      "epoch: 30 - total loss: 0.06695238635188576\n",
      "epoch: 40 - total loss: 0.004848387879220833\n",
      "epoch: 50 - total loss: 0.00024278862651892037\n"
     ]
    }
   ],
   "source": [
    "# https://github.com/MahanFathi/CS231/blob/master/assignment2/cs231n/layers.py\n",
    "def init_weights(shape):\n",
    "    return 2.0 * np.random.random(shape) - 1.0\n",
    "\n",
    "def affine(x, w):\n",
    "    '''A standard, linear layer that performs a matrix multiplication \n",
    "    \n",
    "    Inputs:\n",
    "    - x: layer input\n",
    "    - w: layer weights\n",
    "    \n",
    "    Returns:\n",
    "    - o: layer output\n",
    "    '''\n",
    "    o = x.dot(w)\n",
    "    return o\n",
    "\n",
    "def affine_backwards(do, x, w):\n",
    "    '''\n",
    "    Inputs:\n",
    "    - do: derivative of the network loss w.r.t. this layer's output o\n",
    "    - x: original input to this layer \n",
    "    - w: original weights associated with this layer \n",
    "    \n",
    "    Returns:\n",
    "    - [dx, dw]: tuple of two items:\n",
    "        - dx: partial derivative of the network loss w.r.t. x\n",
    "        - dw: partial derivative of the network loss w.r.t. w\n",
    "    '''\n",
    "    dx = do.dot(w.T)\n",
    "    assert(dx.shape == x.shape)\n",
    "    \n",
    "    dw = x.T.dot(do)\n",
    "    assert(dw.shape == w.shape)\n",
    "    \n",
    "    return [dx, dw]\n",
    "\n",
    "def relu(x):\n",
    "    '''A ReLU activation function, which sets all negative numbers to zero\n",
    "    \n",
    "    Inputs:\n",
    "    - x: layer input\n",
    "    \n",
    "    Returns:\n",
    "    - o: layer output with the same shape as x\n",
    "    '''\n",
    "    o = (x > 0.0) * x\n",
    "    return o\n",
    "\n",
    "def relu_backwards(do, x):\n",
    "    '''\n",
    "    Inputs:\n",
    "    - do:\n",
    "    - x: original input to this layer \n",
    "    \n",
    "    Returns:\n",
    "    - do_dx: partial derivative of this layer's output w.r.t. its input x\n",
    "    '''\n",
    "    dx = x > 0.0\n",
    "    return do * dx\n",
    "\n",
    "def dropout(x, p):\n",
    "    dropout_mask = np.random.randint(2, size=x.shape)\n",
    "    \n",
    "    # Inverted dropout: multiply by `1 / p`\n",
    "    o = (x * dropout_mask) * 2.0\n",
    "    \n",
    "    # Needed for backwards pass\n",
    "    return o, dropout_mask\n",
    "\n",
    "def dropout_backwards(do, dropout_mask):\n",
    "    dx = do * dropout_mask\n",
    "    return dx\n",
    "    \n",
    "def mse(y, y_hat):\n",
    "    '''\n",
    "    Computes the MSE between the actual and predicted value(s) of `y`\n",
    "    '''\n",
    "    l = np.sum((y_hat - y) ** 2.0)\n",
    "    return l\n",
    "\n",
    "def reduce_sum(x):\n",
    "    o = np.sum(x)\n",
    "    return o\n",
    "\n",
    "def reduce_sum_backwards(do, x):\n",
    "    dx = do * np.ones_like(x)\n",
    "    return dx\n",
    "\n",
    "class TwoLayerNetwork():\n",
    "    \n",
    "    def __init__(self, input_size, hidden_size, output_size):\n",
    "        self.input_size = input_size\n",
    "        self.hidden_size = hidden_size\n",
    "        self.output_size = output_size\n",
    "        \n",
    "        # Weights between the input layer and the hidden layer\n",
    "        self.w0 = init_weights((input_size, hidden_size))\n",
    "        \n",
    "        # Weights between the hidden layer and the output layer\n",
    "        self.w1 = init_weights((hidden_size, output_size))\n",
    "    \n",
    "    def train(x_train, y_train, lr, epochs):\n",
    "        # Forward pass\n",
    "        \n",
    "        # Calculate loss\n",
    "        \n",
    "        # Backward pass\n",
    "        pass\n",
    "\n",
    "class Optimizer():\n",
    "    def __init__(self, model, epochs, learning_rate, batch_size):\n",
    "        pass\n",
    "    \n",
    "# Build our model\n",
    "hidden_size = 4\n",
    "w0 = init_weights((3, hidden_size)) # Input to hidden layer\n",
    "w1 = init_weights((hidden_size, 1)) # Hidden to output layer\n",
    "\n",
    "# Hyperparameters\n",
    "debug = False\n",
    "epochs = 60\n",
    "lr = 0.2\n",
    "\n",
    "losses = []\n",
    "\n",
    "np.random.seed(1)\n",
    "\n",
    "# Train our model\n",
    "for i in range(epochs):\n",
    "    \n",
    "    l_total = 0.0\n",
    "    \n",
    "    for j in range(len(xs)):\n",
    "        \n",
    "        # Rename some variables for clarity\n",
    "        x = xs[j:j + 1]\n",
    "        y = ys[j:j + 1]\n",
    "        \n",
    "        # Forward pass\n",
    "        x0 = x\n",
    "        x1_activation = affine(x0, w0)\n",
    "        x1 = relu(x1_activation)\n",
    "        x2 = affine(x1, w1)\n",
    "        \n",
    "        # Calculate the scalar loss\n",
    "        y_hat = x2\n",
    "        l = np.sum((y_hat - y) ** 2.0)\n",
    "        l_total += l\n",
    "        \n",
    "        # Backwards pass\n",
    "        dout = y - y_hat\n",
    "        dout, dw1 = affine_backwards(dout, x1, w1)\n",
    "        dout = relu_backwards(dout, x1_activation)\n",
    "        dout, dw0 = affine_backwards(dout, x0, w0)\n",
    "        \n",
    "        # Perform a parameter update\n",
    "        w1 += lr * dw1\n",
    "        w0 += lr * dw0\n",
    "        \n",
    "        if debug:\n",
    "            print('    actual: {}, prediction: {}'.format(y.flatten(), y_hat.flatten()))\n",
    "    \n",
    "    losses.append(l_total)\n",
    "    \n",
    "    if (i % 10 == 0):\n",
    "        print('epoch: {} - total loss: {}'.format(i, l_total))\n",
    "    "
   ]
  },
  {
   "cell_type": "markdown",
   "metadata": {},
   "source": [
    "### Expected:\n",
    "\n",
    "- epoch: 0 - total loss: 1.4142058374213209\n",
    "- epoch: 10 - total loss: 0.5969764839869187\n",
    "- epoch: 20 - total loss: 0.32618123814841266\n",
    "- epoch: 30 - total loss: 0.06695238635188576\n",
    "- epoch: 40 - total loss: 0.004848387879220833\n",
    "- epoch: 50 - total loss: 0.00024278862651892037"
   ]
  },
  {
   "cell_type": "code",
   "execution_count": 56,
   "metadata": {},
   "outputs": [
    {
     "data": {
      "text/plain": [
       "Text(0,0.5,'scalar loss')"
      ]
     },
     "execution_count": 56,
     "metadata": {},
     "output_type": "execute_result"
    },
    {
     "data": {
      "image/png": "[encoded data removed]",
      "text/plain": [
       "<Figure size 432x288 with 1 Axes>"
      ]
     },
     "metadata": {},
     "output_type": "display_data"
    }
   ],
   "source": [
    "plt.plot(np.arange(len(losses)), losses, 'r-')\n",
    "plt.xlabel('epoch')\n",
    "plt.ylabel('scalar loss')"
   ]
  },
  {
   "cell_type": "code",
   "execution_count": 53,
   "metadata": {},
   "outputs": [
    {
     "name": "stdout",
     "output_type": "stream",
     "text": [
      "[1.4142058374213209, 1.212716151470694, 1.056563760006402, 0.9491664812884164, 0.8619621154574514, 0.784506838338833, 0.7146489816005345, 0.672866352346484, 0.6394999890740327, 0.6342311598444467, 0.5969764839869187, 0.5714302583039846, 0.547512509993337, 0.5291187885056882, 0.5202827123839309, 0.4854443591208563, 0.4804341717307572, 0.42548955696355173, 0.3905776418458242, 0.35838407676317513, 0.32618123814841266, 0.29395962452752294, 0.26209322300616295, 0.23101665519210007, 0.20117243143357702, 0.17298316510384884, 0.14682342054830255, 0.12299256341197361, 0.10169306031259193, 0.0830183113303298, 0.06695238635188576, 0.05338152682500647, 0.042114772619092876, 0.03290944387911881, 0.025496917126735755, 0.019605048838591953, 0.01497515432725958, 0.011373010303591016, 0.008594492552214705, 0.006467054957103705, 0.004848387879220833, 0.003623436660173018, 0.0027006802260720344, 0.002008278407770352, 0.001490452284304541, 0.0011042823161558587, 0.0008169900285129684, 0.0006036867205034513, 0.0004460347991358619, 0.0003292669000750734, 0.00024278862651892037, 0.00017881902901540324, 0.00013156741001375455, 9.671311078047779e-05, 7.103568114338701e-05, 5.213973367506478e-05, 3.824753779521437e-05, 2.8042491614452794e-05, 2.0551303053743457e-05, 1.5055622665134859e-05]\n"
     ]
    }
   ],
   "source": [
    "print(losses)"
   ]
  },
  {
   "cell_type": "code",
   "execution_count": null,
   "metadata": {},
   "outputs": [],
   "source": []
  }
 ],
 "metadata": {
  "kernelspec": {
   "display_name": "Python 3",
   "language": "python",
   "name": "python3"
  },
  "language_info": {
   "codemirror_mode": {
    "name": "ipython",
    "version": 3
   },
   "file_extension": ".py",
   "mimetype": "text/x-python",
   "name": "python",
   "nbconvert_exporter": "python",
   "pygments_lexer": "ipython3",
   "version": "3.6.3"
  }
 },
 "nbformat": 4,
 "nbformat_minor": 2
}
